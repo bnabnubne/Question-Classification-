{
 "cells": [
  {
   "cell_type": "code",
   "execution_count": 6,
   "metadata": {},
   "outputs": [],
   "source": [
    "import pandas as pd\n",
    "import numpy as np\n",
    "from sklearn.model_selection import train_test_split\n",
    "from sklearn.feature_extraction.text import TfidfVectorizer\n",
    "\n",
    "from sklearn.metrics import classification_report, accuracy_score, confusion_matrix\n",
    "import joblib\n",
    "import seaborn as sns\n",
    "import matplotlib.pyplot as plt"
   ]
  },
  {
   "cell_type": "code",
   "execution_count": 8,
   "metadata": {},
   "outputs": [],
   "source": [
    "# Đọc dữ liệu từ các file\n",
    "train = pd.read_excel(\"/Users/bnabnubne/NLP NMH/Data/train.xlsx\")\n",
    "val = pd.read_excel(\"/Users/bnabnubne/NLP NMH/Data/val.xlsx\")\n",
    "test = pd.read_excel(\"/Users/bnabnubne/NLP NMH/Data/test.xlsx\")"
   ]
  },
  {
   "cell_type": "code",
   "execution_count": 9,
   "metadata": {},
   "outputs": [
    {
     "name": "stdout",
     "output_type": "stream",
     "text": [
      "\n",
      "Dữ liệu Train:\n",
      "    STT                                           Question   Label\n",
      "0   955              Chỗ nào tổ chức các lớp học làm bánh?   Where\n",
      "1   135     Khi nào bạn sẽ tham gia buổi tập huấn kỹ năng?    When\n",
      "2   521  Bạn nghĩ gì về ý tưởng làm việc từ xa trong tư...    What\n",
      "3  1087   Có phải bạn đang tìm kiếm cơ hội học bổng không?  Yes/No\n",
      "4   695  Vì sao chúng ta lại cảm thấy khó khăn khi đưa ...     Why\n",
      "\n",
      "Dữ liệu Validation:\n",
      "    STT                                           Question     Label\n",
      "0   911           Địa chỉ nào cung cấp dịch vụ spa uy tín?     Where\n",
      "1  1021  Người nào đã giúp bạn hoàn thành luận văn tốt ...       Who\n",
      "2   264         Điều gì khiến bạn nhớ nhất về thời đi học?      What\n",
      "3  1129          Trường đại học của bạn có bao nhiêu khoa?  Quantity\n",
      "4   127          Khi nào bạn dự định học một ngôn ngữ mới?      When\n",
      "\n",
      "Dữ liệu Test:\n",
      "    STT                                           Question     Label\n",
      "0   348                  Giảng viên môn NLP lớp bạn là ai?       Who\n",
      "1  1103  Bạn có nghĩ rằng học trực tuyến là hiệu quả kh...    Yes/No\n",
      "2   918        Ở đâu có các trung tâm dạy nhạc chất lượng?     Where\n",
      "3   876        Tôi có thể mua máy ảnh cũ chất lượng ở đâu?     Where\n",
      "4   476                              Bạn cao bao nhiêu cm?  Quantity\n"
     ]
    }
   ],
   "source": [
    "# 2. Kiểm tra dữ liệu đã đọc\n",
    "print(\"\\nDữ liệu Train:\")\n",
    "print(train.head())\n",
    "print(\"\\nDữ liệu Validation:\")\n",
    "print(val.head())\n",
    "print(\"\\nDữ liệu Test:\")\n",
    "print(test.head())"
   ]
  },
  {
   "cell_type": "code",
   "execution_count": 10,
   "metadata": {},
   "outputs": [
    {
     "name": "stdout",
     "output_type": "stream",
     "text": [
      "Kích thước của /Users/bnabnubne/NLP NMH/Data/train.xlsx: 36.04 KB\n",
      "Kích thước của /Users/bnabnubne/NLP NMH/Data/val.xlsx: 12.37 KB\n",
      "Kích thước của /Users/bnabnubne/NLP NMH/Data/test.xlsx: 12.28 KB\n"
     ]
    }
   ],
   "source": [
    "import os\n",
    "\n",
    "# Đường dẫn tới các tệp\n",
    "train_path = r\"/Users/bnabnubne/NLP NMH/Data/train.xlsx\"\n",
    "val_path = r\"/Users/bnabnubne/NLP NMH/Data/val.xlsx\"\n",
    "test_path = r\"/Users/bnabnubne/NLP NMH/Data/test.xlsx\"\n",
    "\n",
    "# Kiểm tra kích thước từng tệp\n",
    "for file_path in [train_path, val_path, test_path]:\n",
    "    if os.path.exists(file_path):\n",
    "        size_in_kb = os.path.getsize(file_path) / 1024  # Chuyển đổi sang KB\n",
    "        print(f\"Kích thước của {file_path}: {size_in_kb:.2f} KB\")\n",
    "    else:\n",
    "        print(f\"Tệp {file_path} không tồn tại.\")"
   ]
  },
  {
   "cell_type": "code",
   "execution_count": 12,
   "metadata": {},
   "outputs": [
    {
     "name": "stdout",
     "output_type": "stream",
     "text": [
      "Dữ liệu sau khi làm sạch (train):\n",
      "    STT                                           Question   Label\n",
      "0   955             chỗ nào tổ chức các lớp học làm bánh ?   Where\n",
      "1   135    khi nào bạn sẽ tham gia buổi tập huấn kỹ năng ?    When\n",
      "2   521  bạn nghĩ gì về ý tưởng làm việc từ xa trong tư...    What\n",
      "3  1087  có phải bạn đang tìm kiếm cơ hội học bổng không ?  Yes/No\n",
      "4   695  vì sao chúng ta lại cảm thấy khó khăn khi đưa ...     Why\n"
     ]
    }
   ],
   "source": [
    "import re\n",
    "# Làm sạch văn bản\n",
    "def clean_text(text):\n",
    "    text = re.sub(r'\\s+', ' ', text)  # Loại bỏ khoảng trắng thừa\n",
    "    text = text.strip().lower()      # Chuyển về chữ thường\n",
    "    return text\n",
    "\n",
    "train['Question'] = train['Question'].apply(clean_text)\n",
    "val['Question'] = val['Question'].apply(clean_text)\n",
    "test['Question'] = test['Question'].apply(clean_text)\n",
    "\n",
    "# Kiểm tra kết quả\n",
    "print(\"Dữ liệu sau khi làm sạch (train):\")\n",
    "print(train.head())"
   ]
  },
  {
   "cell_type": "code",
   "execution_count": 13,
   "metadata": {},
   "outputs": [
    {
     "name": "stdout",
     "output_type": "stream",
     "text": [
      "Đã lưu TF-IDF vectorizer vào file tfidf_vectorizer.joblib.\n"
     ]
    }
   ],
   "source": [
    "from sklearn.feature_extraction.text import TfidfVectorizer\n",
    "import joblib\n",
    "\n",
    "# Tạo đặc trưng TF-IDF\n",
    "vectorizer = TfidfVectorizer(ngram_range=(1, 2),max_features=5000)\n",
    "X_train = vectorizer.fit_transform(train['Question'])\n",
    "X_val = vectorizer.transform(val['Question'])\n",
    "X_test = vectorizer.transform(test['Question'])\n",
    "\n",
    "# Lưu TF-IDF vectorizer để tái sử dụng\n",
    "joblib.dump(vectorizer, \"tfidf_vectorizer.joblib\")\n",
    "print(\"Đã lưu TF-IDF vectorizer vào file tfidf_vectorizer.joblib.\")"
   ]
  },
  {
   "cell_type": "code",
   "execution_count": 14,
   "metadata": {},
   "outputs": [],
   "source": [
    "#Chuẩn bị nhãn\n",
    "y_train = train['Label']\n",
    "y_val = val['Label']\n",
    "y_test = test['Label']"
   ]
  },
  {
   "cell_type": "code",
   "execution_count": 15,
   "metadata": {},
   "outputs": [
    {
     "data": {
      "text/html": [
       "<style>#sk-container-id-1 {color: black;background-color: white;}#sk-container-id-1 pre{padding: 0;}#sk-container-id-1 div.sk-toggleable {background-color: white;}#sk-container-id-1 label.sk-toggleable__label {cursor: pointer;display: block;width: 100%;margin-bottom: 0;padding: 0.3em;box-sizing: border-box;text-align: center;}#sk-container-id-1 label.sk-toggleable__label-arrow:before {content: \"▸\";float: left;margin-right: 0.25em;color: #696969;}#sk-container-id-1 label.sk-toggleable__label-arrow:hover:before {color: black;}#sk-container-id-1 div.sk-estimator:hover label.sk-toggleable__label-arrow:before {color: black;}#sk-container-id-1 div.sk-toggleable__content {max-height: 0;max-width: 0;overflow: hidden;text-align: left;background-color: #f0f8ff;}#sk-container-id-1 div.sk-toggleable__content pre {margin: 0.2em;color: black;border-radius: 0.25em;background-color: #f0f8ff;}#sk-container-id-1 input.sk-toggleable__control:checked~div.sk-toggleable__content {max-height: 200px;max-width: 100%;overflow: auto;}#sk-container-id-1 input.sk-toggleable__control:checked~label.sk-toggleable__label-arrow:before {content: \"▾\";}#sk-container-id-1 div.sk-estimator input.sk-toggleable__control:checked~label.sk-toggleable__label {background-color: #d4ebff;}#sk-container-id-1 div.sk-label input.sk-toggleable__control:checked~label.sk-toggleable__label {background-color: #d4ebff;}#sk-container-id-1 input.sk-hidden--visually {border: 0;clip: rect(1px 1px 1px 1px);clip: rect(1px, 1px, 1px, 1px);height: 1px;margin: -1px;overflow: hidden;padding: 0;position: absolute;width: 1px;}#sk-container-id-1 div.sk-estimator {font-family: monospace;background-color: #f0f8ff;border: 1px dotted black;border-radius: 0.25em;box-sizing: border-box;margin-bottom: 0.5em;}#sk-container-id-1 div.sk-estimator:hover {background-color: #d4ebff;}#sk-container-id-1 div.sk-parallel-item::after {content: \"\";width: 100%;border-bottom: 1px solid gray;flex-grow: 1;}#sk-container-id-1 div.sk-label:hover label.sk-toggleable__label {background-color: #d4ebff;}#sk-container-id-1 div.sk-serial::before {content: \"\";position: absolute;border-left: 1px solid gray;box-sizing: border-box;top: 0;bottom: 0;left: 50%;z-index: 0;}#sk-container-id-1 div.sk-serial {display: flex;flex-direction: column;align-items: center;background-color: white;padding-right: 0.2em;padding-left: 0.2em;position: relative;}#sk-container-id-1 div.sk-item {position: relative;z-index: 1;}#sk-container-id-1 div.sk-parallel {display: flex;align-items: stretch;justify-content: center;background-color: white;position: relative;}#sk-container-id-1 div.sk-item::before, #sk-container-id-1 div.sk-parallel-item::before {content: \"\";position: absolute;border-left: 1px solid gray;box-sizing: border-box;top: 0;bottom: 0;left: 50%;z-index: -1;}#sk-container-id-1 div.sk-parallel-item {display: flex;flex-direction: column;z-index: 1;position: relative;background-color: white;}#sk-container-id-1 div.sk-parallel-item:first-child::after {align-self: flex-end;width: 50%;}#sk-container-id-1 div.sk-parallel-item:last-child::after {align-self: flex-start;width: 50%;}#sk-container-id-1 div.sk-parallel-item:only-child::after {width: 0;}#sk-container-id-1 div.sk-dashed-wrapped {border: 1px dashed gray;margin: 0 0.4em 0.5em 0.4em;box-sizing: border-box;padding-bottom: 0.4em;background-color: white;}#sk-container-id-1 div.sk-label label {font-family: monospace;font-weight: bold;display: inline-block;line-height: 1.2em;}#sk-container-id-1 div.sk-label-container {text-align: center;}#sk-container-id-1 div.sk-container {/* jupyter's `normalize.less` sets `[hidden] { display: none; }` but bootstrap.min.css set `[hidden] { display: none !important; }` so we also need the `!important` here to be able to override the default hidden behavior on the sphinx rendered scikit-learn.org. See: https://github.com/scikit-learn/scikit-learn/issues/21755 */display: inline-block !important;position: relative;}#sk-container-id-1 div.sk-text-repr-fallback {display: none;}</style><div id=\"sk-container-id-1\" class=\"sk-top-container\"><div class=\"sk-text-repr-fallback\"><pre>LogisticRegression(max_iter=200, random_state=42)</pre><b>In a Jupyter environment, please rerun this cell to show the HTML representation or trust the notebook. <br />On GitHub, the HTML representation is unable to render, please try loading this page with nbviewer.org.</b></div><div class=\"sk-container\" hidden><div class=\"sk-item\"><div class=\"sk-estimator sk-toggleable\"><input class=\"sk-toggleable__control sk-hidden--visually\" id=\"sk-estimator-id-1\" type=\"checkbox\" checked><label for=\"sk-estimator-id-1\" class=\"sk-toggleable__label sk-toggleable__label-arrow\">LogisticRegression</label><div class=\"sk-toggleable__content\"><pre>LogisticRegression(max_iter=200, random_state=42)</pre></div></div></div></div></div>"
      ],
      "text/plain": [
       "LogisticRegression(max_iter=200, random_state=42)"
      ]
     },
     "execution_count": 15,
     "metadata": {},
     "output_type": "execute_result"
    }
   ],
   "source": [
    "from sklearn.linear_model import LogisticRegression\n",
    "\n",
    "model = LogisticRegression(random_state=42, max_iter=200)\n",
    "model.fit(X_train, y_train)"
   ]
  },
  {
   "cell_type": "code",
   "execution_count": 16,
   "metadata": {},
   "outputs": [
    {
     "name": "stdout",
     "output_type": "stream",
     "text": [
      "Validation Accuracy: 0.8888888888888888\n",
      "              precision    recall  f1-score   support\n",
      "\n",
      "         How       0.90      0.78      0.84        23\n",
      "    Quantity       1.00      1.00      1.00        23\n",
      "        What       0.85      0.77      0.81        22\n",
      "        When       0.90      0.86      0.88        22\n",
      "       Where       0.86      0.86      0.86        22\n",
      "         Who       1.00      0.96      0.98        23\n",
      "         Why       0.95      0.86      0.90        22\n",
      "      Yes/No       0.72      1.00      0.84        23\n",
      "\n",
      "    accuracy                           0.89       180\n",
      "   macro avg       0.90      0.89      0.89       180\n",
      "weighted avg       0.90      0.89      0.89       180\n",
      "\n",
      "Test Accuracy: 0.9\n",
      "              precision    recall  f1-score   support\n",
      "\n",
      "         How       0.83      0.68      0.75        22\n",
      "    Quantity       1.00      1.00      1.00        22\n",
      "        What       0.63      0.74      0.68        23\n",
      "        When       0.95      0.91      0.93        23\n",
      "       Where       1.00      0.96      0.98        23\n",
      "         Who       0.95      0.95      0.95        22\n",
      "         Why       0.96      0.96      0.96        23\n",
      "      Yes/No       0.92      1.00      0.96        22\n",
      "\n",
      "    accuracy                           0.90       180\n",
      "   macro avg       0.91      0.90      0.90       180\n",
      "weighted avg       0.91      0.90      0.90       180\n",
      "\n"
     ]
    }
   ],
   "source": [
    "# Đánh giá mô hình trên tập validation\n",
    "y_val_pred = model.predict(X_val)\n",
    "print(\"Validation Accuracy:\", accuracy_score(y_val, y_val_pred))\n",
    "print(classification_report(y_val, y_val_pred))\n",
    "\n",
    "# Đánh giá mô hình trên tập test\n",
    "y_test_pred = model.predict(X_test)\n",
    "print(\"Test Accuracy:\", accuracy_score(y_test, y_test_pred))\n",
    "print(classification_report(y_test, y_test_pred))"
   ]
  },
  {
   "cell_type": "code",
   "execution_count": 17,
   "metadata": {},
   "outputs": [
    {
     "name": "stdout",
     "output_type": "stream",
     "text": [
      "Mô hình và vectorizer đã được lưu.\n"
     ]
    }
   ],
   "source": [
    "# Lưu mô hình và vectorizer để sử dụng sau này\n",
    "joblib.dump(model, \"logistic_model.pkl\")\n",
    "joblib.dump(vectorizer, \"vectorizer.pkl\")\n",
    "print(\"Mô hình và vectorizer đã được lưu.\")"
   ]
  },
  {
   "cell_type": "code",
   "execution_count": 18,
   "metadata": {},
   "outputs": [
    {
     "data": {
      "image/png": "[encoded data removed]",
      "text/plain": [
       "<Figure size 1000x700 with 2 Axes>"
      ]
     },
     "metadata": {},
     "output_type": "display_data"
    }
   ],
   "source": [
    "# Confusion Matrix\n",
    "cm = confusion_matrix(y_test, y_test_pred, labels=model.classes_)\n",
    "plt.figure(figsize=(10, 7))\n",
    "sns.heatmap(cm, annot=True, fmt='d', cmap='Blues', xticklabels=model.classes_, yticklabels=model.classes_)\n",
    "plt.title(\"Confusion Matrix\")\n",
    "plt.xlabel(\"Predicted\")\n",
    "plt.ylabel(\"True\")\n",
    "plt.show()"
   ]
  },
  {
   "cell_type": "code",
   "execution_count": 19,
   "metadata": {},
   "outputs": [],
   "source": [
    "#Dự đoán nhãn của câu hỏi mới\n",
    "def predict_question_type(question):\n",
    "    # Tiền xử lý câu hỏi mới\n",
    "    question_cleaned = clean_text(question)\n",
    "    # Chuyển đổi câu hỏi thành đặc trưng TF-IDF\n",
    "    question_tfidf = vectorizer.transform([question_cleaned])\n",
    "    # Dự đoán nhãn\n",
    "    label = model.predict(question_tfidf)\n",
    "    return label[0]"
   ]
  },
  {
   "cell_type": "code",
   "execution_count": 20,
   "metadata": {},
   "outputs": [
    {
     "name": "stdout",
     "output_type": "stream",
     "text": [
      "Câu hỏi: Nếu được cho 5 điều ước, bạn sẽ ước gì?\n",
      "Dự đoán nhãn: What\n"
     ]
    }
   ],
   "source": [
    "question = \"Nếu được cho 5 điều ước, bạn sẽ ước gì?\"\n",
    "predicted_label = predict_question_type(question)\n",
    "\n",
    "print(f\"Câu hỏi: {question}\")\n",
    "print(f\"Dự đoán nhãn: {predicted_label}\")"
   ]
  },
  {
   "cell_type": "code",
   "execution_count": 21,
   "metadata": {},
   "outputs": [
    {
     "name": "stdout",
     "output_type": "stream",
     "text": [
      "Câu hỏi: Nếu được cho 5 điều ước, bạn sẽ ước gì?\n",
      "Dự đoán nhãn: What\n",
      "--------------------------------------------------\n",
      "Câu hỏi: Bạn là ai?\n",
      "Dự đoán nhãn: Who\n",
      "--------------------------------------------------\n",
      "Câu hỏi: Cách để học lập trình hiệu quả là gì?\n",
      "Dự đoán nhãn: How\n",
      "--------------------------------------------------\n",
      "Câu hỏi: Làm thế nào để giảm cân an toàn?\n",
      "Dự đoán nhãn: How\n",
      "--------------------------------------------------\n",
      "Câu hỏi: Khi nào là thời điểm tốt nhất để đầu tư?\n",
      "Dự đoán nhãn: When\n",
      "--------------------------------------------------\n"
     ]
    }
   ],
   "source": [
    "# Danh sách các câu hỏi\n",
    "questions = [\n",
    "    \"Nếu được cho 5 điều ước, bạn sẽ ước gì?\",\n",
    "    \"Bạn là ai?\",\n",
    "    \"Cách để học lập trình hiệu quả là gì?\",\n",
    "    \"Làm thế nào để giảm cân an toàn?\",\n",
    "    \"Khi nào là thời điểm tốt nhất để đầu tư?\"\n",
    "]\n",
    "\n",
    "# Dự đoán nhãn cho tất cả câu hỏi\n",
    "for question in questions:\n",
    "    predicted_label = predict_question_type(question)\n",
    "    print(f\"Câu hỏi: {question}\")\n",
    "    print(f\"Dự đoán nhãn: {predicted_label}\")\n",
    "    print(\"-\" * 50)  # Dòng phân cách giữa các câu hỏi"
   ]
  },
  {
   "cell_type": "code",
   "execution_count": 22,
   "metadata": {},
   "outputs": [
    {
     "name": "stdout",
     "output_type": "stream",
     "text": [
      "                           Question predicted_label\n",
      "0       Khi nào tôi có thể nộp bài?            When\n",
      "1    Sản phẩm này có giá bao nhiêu?        Quantity\n",
      "2  Làm thế nào để giải bài tập này?             How\n",
      "3         Các bước để nấu ăn là gì?            What\n",
      "4     Cách làm bánh mì như thế nào?             How\n"
     ]
    }
   ],
   "source": [
    "#Test\n",
    "test_file = \"/Users/bnabnubne/NLP NMH/new_data.xlsx\"\n",
    "test_data = pd.read_excel(test_file)\n",
    "\n",
    "X_test_new = vectorizer.transform(test_data['Question'])\n",
    "y_pred_new = model.predict(X_test_new)\n",
    "test_data['predicted_label'] = y_pred_new\n",
    "test_data.to_excel(\"predicted_results.xlsx\", index=False)\n",
    "\n",
    "print(test_data[['Question', 'predicted_label']].head())"
   ]
  }
 ],
 "metadata": {
  "kernelspec": {
   "display_name": "Python 3",
   "language": "python",
   "name": "python3"
  },
  "language_info": {
   "codemirror_mode": {
    "name": "ipython",
    "version": 3
   },
   "file_extension": ".py",
   "mimetype": "text/x-python",
   "name": "python",
   "nbconvert_exporter": "python",
   "pygments_lexer": "ipython3",
   "version": "3.11.7"
  }
 },
 "nbformat": 4,
 "nbformat_minor": 2
}
